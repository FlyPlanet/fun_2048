{
 "cells": [
  {
   "cell_type": "code",
   "execution_count": null,
   "id": "bee897e5-d890-4548-8618-4e798628895e",
   "metadata": {},
   "outputs": [
    {
     "ename": "",
     "evalue": "",
     "output_type": "error",
     "traceback": [
      "\u001b[1;31m运行具有“Python 3.12.4”的单元格需要ipykernel包。\n",
      "\u001b[1;31m运行以下命令，将 \"ipykernel\" 安装到 Python 环境中。\n",
      "\u001b[1;31m命令: \"/bin/python -m pip install ipykernel -U --user --force-reinstall\""
     ]
    }
   ],
   "source": [
    "import pandas as pd\n",
    "%matplotlib inline\n",
    "import matplotlib.pyplot as plt"
   ]
  },
  {
   "cell_type": "code",
   "execution_count": null,
   "id": "bae066d7-3b27-44f0-ad7b-2f0831c44fb7",
   "metadata": {},
   "outputs": [
    {
     "ename": "",
     "evalue": "",
     "output_type": "error",
     "traceback": [
      "\u001b[1;31m运行具有“Python 3.12.4”的单元格需要ipykernel包。\n",
      "\u001b[1;31m运行以下命令，将 \"ipykernel\" 安装到 Python 环境中。\n",
      "\u001b[1;31m命令: \"/bin/python -m pip install ipykernel -U --user --force-reinstall\""
     ]
    }
   ],
   "source": [
    "plt.style.use('ggplot')\n",
    "data=pd.read_csv(r'grade_0.1billion.csv')\n",
    "data['占比']=data['频率']/data['频率'].sum()\n",
    "mean=(data['成绩']*data['占比']).sum()\n",
    "fig, ax = plt.subplots(figsize=(10, 6))\n",
    "\n",
    "ax.axvline(x=mean, color='r', linestyle='--', label='平均数')\n",
    "ax.set_title('千万次模拟', fontsize=16)\n",
    "ax.legend()\n",
    "data.plot(x='成绩',y='占比',ax=ax)\n",
    "plt.rcParams['font.sans-serif'] = ['Pingfang SC']\n",
    "plt.xlim(0, data['成绩'].max() + 500)\n",
    "plt.show()"
   ]
  },
  {
   "cell_type": "code",
   "execution_count": null,
   "id": "8239907a-49d3-4a49-81af-a8415d765d30",
   "metadata": {},
   "outputs": [
    {
     "ename": "",
     "evalue": "",
     "output_type": "error",
     "traceback": [
      "\u001b[1;31m运行具有“Python 3.12.4”的单元格需要ipykernel包。\n",
      "\u001b[1;31m运行以下命令，将 \"ipykernel\" 安装到 Python 环境中。\n",
      "\u001b[1;31m命令: \"/bin/python -m pip install ipykernel -U --user --force-reinstall\""
     ]
    }
   ],
   "source": [
    "\n"
   ]
  },
  {
   "cell_type": "code",
   "execution_count": null,
   "id": "ca9d4ea9-148f-4ec2-bc3d-ef671db0a27f",
   "metadata": {},
   "outputs": [
    {
     "ename": "",
     "evalue": "",
     "output_type": "error",
     "traceback": [
      "\u001b[1;31m运行具有“Python 3.12.4”的单元格需要ipykernel包。\n",
      "\u001b[1;31m运行以下命令，将 \"ipykernel\" 安装到 Python 环境中。\n",
      "\u001b[1;31m命令: \"/bin/python -m pip install ipykernel -U --user --force-reinstall\""
     ]
    }
   ],
   "source": []
  }
 ],
 "metadata": {
  "kernelspec": {
   "display_name": "Python 3 (ipykernel)",
   "language": "python",
   "name": "python3"
  },
  "language_info": {
   "codemirror_mode": {
    "name": "ipython",
    "version": 3
   },
   "file_extension": ".py",
   "mimetype": "text/x-python",
   "name": "python",
   "nbconvert_exporter": "python",
   "pygments_lexer": "ipython3",
   "version": "3.12.4"
  }
 },
 "nbformat": 4,
 "nbformat_minor": 5
}
